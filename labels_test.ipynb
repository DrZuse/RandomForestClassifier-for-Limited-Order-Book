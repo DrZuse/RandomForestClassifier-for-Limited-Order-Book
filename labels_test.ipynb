{
 "cells": [
  {
   "cell_type": "code",
   "execution_count": 10,
   "metadata": {},
   "outputs": [],
   "source": [
    "import numpy as np\n",
    "import os\n",
    "import pandas as pd\n",
    "from configurations import predict_logger as logger, basic_parameters"
   ]
  },
  {
   "cell_type": "code",
   "execution_count": 11,
   "metadata": {},
   "outputs": [],
   "source": [
    "data_calibration        = basic_parameters['data_calibration']\n",
    "ticker                  = basic_parameters['ticker']\n",
    "data_features           = basic_parameters['data_features']\n",
    "nlevels                 = basic_parameters['nlevels']\n",
    "drawdown_limit          = basic_parameters['drawdown_limit']\n",
    "fee                     = basic_parameters['fee']\n",
    "lookahead_window        = basic_parameters['lookahead_window']\n",
    "lookback_window         = basic_parameters['lookback_window']\n",
    "csv_name                = basic_parameters['csv_name']\n",
    "results_path            = basic_parameters['results_path']\n",
    "trees                   = basic_parameters['trees']\n",
    "\n",
    "labels_csv = data_features + csv_name[:-4] + f'_Y_la{lookahead_window}Ticks.csv'\n",
    "\n",
    "labels_arr = pd.read_csv(labels_csv, header=None, dtype=np.int32).values"
   ]
  },
  {
   "cell_type": "code",
   "execution_count": 12,
   "metadata": {},
   "outputs": [
    {
     "data": {
      "text/plain": [
       "(1652,)"
      ]
     },
     "execution_count": 12,
     "metadata": {},
     "output_type": "execute_result"
    }
   ],
   "source": [
    "labels_arr[np.nonzero(labels_arr)].shape"
   ]
  },
  {
   "cell_type": "code",
   "execution_count": 13,
   "metadata": {},
   "outputs": [
    {
     "data": {
      "text/plain": [
       "1652"
      ]
     },
     "execution_count": 13,
     "metadata": {},
     "output_type": "execute_result"
    }
   ],
   "source": [
    "labels_arr.sum()"
   ]
  },
  {
   "cell_type": "code",
   "execution_count": 14,
   "metadata": {},
   "outputs": [
    {
     "data": {
      "text/plain": [
       "(10278083, 1)"
      ]
     },
     "execution_count": 14,
     "metadata": {},
     "output_type": "execute_result"
    }
   ],
   "source": [
    "labels_arr.shape"
   ]
  },
  {
   "cell_type": "code",
   "execution_count": null,
   "metadata": {},
   "outputs": [],
   "source": []
  }
 ],
 "metadata": {
  "kernelspec": {
   "display_name": "Python 3",
   "language": "python",
   "name": "python3"
  },
  "language_info": {
   "codemirror_mode": {
    "name": "ipython",
    "version": 3
   },
   "file_extension": ".py",
   "mimetype": "text/x-python",
   "name": "python",
   "nbconvert_exporter": "python",
   "pygments_lexer": "ipython3",
   "version": "3.10.6"
  },
  "orig_nbformat": 4,
  "vscode": {
   "interpreter": {
    "hash": "916dbcbb3f70747c44a77c7bcd40155683ae19c65e1c03b4aa3499c5328201f1"
   }
  }
 },
 "nbformat": 4,
 "nbformat_minor": 2
}
